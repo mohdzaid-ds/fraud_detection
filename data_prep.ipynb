{
 "cells": [
  {
   "cell_type": "code",
   "execution_count": 1,
   "id": "cc03ee2d",
   "metadata": {},
   "outputs": [],
   "source": [
    "import pandas as pd\n",
    "import numpy as np\n",
    "import matplotlib.pyplot as plt\n",
    "import seaborn as sns "
   ]
  },
  {
   "cell_type": "code",
   "execution_count": 2,
   "id": "91af0a8f",
   "metadata": {},
   "outputs": [],
   "source": [
    "import warnings\n",
    "warnings.filterwarnings(\"ignore\")\n",
    "sns.set(style=\"whitegrid\")"
   ]
  },
  {
   "cell_type": "code",
   "execution_count": 4,
   "id": "5cf815bd",
   "metadata": {},
   "outputs": [],
   "source": [
    "df = pd.read_csv(\"final_dataset.csv\")"
   ]
  },
  {
   "cell_type": "code",
   "execution_count": 17,
   "id": "31794507",
   "metadata": {},
   "outputs": [
    {
     "data": {
      "text/html": [
       "<div>\n",
       "<style scoped>\n",
       "    .dataframe tbody tr th:only-of-type {\n",
       "        vertical-align: middle;\n",
       "    }\n",
       "\n",
       "    .dataframe tbody tr th {\n",
       "        vertical-align: top;\n",
       "    }\n",
       "\n",
       "    .dataframe thead th {\n",
       "        text-align: right;\n",
       "    }\n",
       "</style>\n",
       "<table border=\"1\" class=\"dataframe\">\n",
       "  <thead>\n",
       "    <tr style=\"text-align: right;\">\n",
       "      <th></th>\n",
       "      <th>TRANSACTION_ID</th>\n",
       "      <th>TX_DATETIME</th>\n",
       "      <th>CUSTOMER_ID</th>\n",
       "      <th>TERMINAL_ID</th>\n",
       "      <th>TX_AMOUNT</th>\n",
       "      <th>TX_TIME_SECONDS</th>\n",
       "      <th>TX_TIME_DAYS</th>\n",
       "      <th>TX_FRAUD</th>\n",
       "      <th>TX_FRAUD_SCENARIO</th>\n",
       "    </tr>\n",
       "  </thead>\n",
       "  <tbody>\n",
       "    <tr>\n",
       "      <th>0</th>\n",
       "      <td>0</td>\n",
       "      <td>2018-04-01 00:00:31</td>\n",
       "      <td>596</td>\n",
       "      <td>3156</td>\n",
       "      <td>57.16</td>\n",
       "      <td>31</td>\n",
       "      <td>0</td>\n",
       "      <td>0</td>\n",
       "      <td>0</td>\n",
       "    </tr>\n",
       "    <tr>\n",
       "      <th>1</th>\n",
       "      <td>1</td>\n",
       "      <td>2018-04-01 00:02:10</td>\n",
       "      <td>4961</td>\n",
       "      <td>3412</td>\n",
       "      <td>81.51</td>\n",
       "      <td>130</td>\n",
       "      <td>0</td>\n",
       "      <td>0</td>\n",
       "      <td>0</td>\n",
       "    </tr>\n",
       "    <tr>\n",
       "      <th>2</th>\n",
       "      <td>2</td>\n",
       "      <td>2018-04-01 00:07:56</td>\n",
       "      <td>2</td>\n",
       "      <td>1365</td>\n",
       "      <td>146.00</td>\n",
       "      <td>476</td>\n",
       "      <td>0</td>\n",
       "      <td>0</td>\n",
       "      <td>0</td>\n",
       "    </tr>\n",
       "    <tr>\n",
       "      <th>3</th>\n",
       "      <td>3</td>\n",
       "      <td>2018-04-01 00:09:29</td>\n",
       "      <td>4128</td>\n",
       "      <td>8737</td>\n",
       "      <td>64.49</td>\n",
       "      <td>569</td>\n",
       "      <td>0</td>\n",
       "      <td>0</td>\n",
       "      <td>0</td>\n",
       "    </tr>\n",
       "    <tr>\n",
       "      <th>4</th>\n",
       "      <td>4</td>\n",
       "      <td>2018-04-01 00:10:34</td>\n",
       "      <td>927</td>\n",
       "      <td>9906</td>\n",
       "      <td>50.99</td>\n",
       "      <td>634</td>\n",
       "      <td>0</td>\n",
       "      <td>0</td>\n",
       "      <td>0</td>\n",
       "    </tr>\n",
       "    <tr>\n",
       "      <th>5</th>\n",
       "      <td>5</td>\n",
       "      <td>2018-04-01 00:10:45</td>\n",
       "      <td>568</td>\n",
       "      <td>8803</td>\n",
       "      <td>44.71</td>\n",
       "      <td>645</td>\n",
       "      <td>0</td>\n",
       "      <td>0</td>\n",
       "      <td>0</td>\n",
       "    </tr>\n",
       "    <tr>\n",
       "      <th>6</th>\n",
       "      <td>6</td>\n",
       "      <td>2018-04-01 00:11:30</td>\n",
       "      <td>2803</td>\n",
       "      <td>5490</td>\n",
       "      <td>96.03</td>\n",
       "      <td>690</td>\n",
       "      <td>0</td>\n",
       "      <td>0</td>\n",
       "      <td>0</td>\n",
       "    </tr>\n",
       "    <tr>\n",
       "      <th>7</th>\n",
       "      <td>7</td>\n",
       "      <td>2018-04-01 00:11:44</td>\n",
       "      <td>4684</td>\n",
       "      <td>2486</td>\n",
       "      <td>24.36</td>\n",
       "      <td>704</td>\n",
       "      <td>0</td>\n",
       "      <td>0</td>\n",
       "      <td>0</td>\n",
       "    </tr>\n",
       "    <tr>\n",
       "      <th>8</th>\n",
       "      <td>8</td>\n",
       "      <td>2018-04-01 00:11:53</td>\n",
       "      <td>4128</td>\n",
       "      <td>8354</td>\n",
       "      <td>26.34</td>\n",
       "      <td>713</td>\n",
       "      <td>0</td>\n",
       "      <td>0</td>\n",
       "      <td>0</td>\n",
       "    </tr>\n",
       "    <tr>\n",
       "      <th>9</th>\n",
       "      <td>9</td>\n",
       "      <td>2018-04-01 00:13:44</td>\n",
       "      <td>541</td>\n",
       "      <td>6212</td>\n",
       "      <td>59.07</td>\n",
       "      <td>824</td>\n",
       "      <td>0</td>\n",
       "      <td>0</td>\n",
       "      <td>0</td>\n",
       "    </tr>\n",
       "  </tbody>\n",
       "</table>\n",
       "</div>"
      ],
      "text/plain": [
       "   TRANSACTION_ID          TX_DATETIME  CUSTOMER_ID  TERMINAL_ID  TX_AMOUNT  \\\n",
       "0               0  2018-04-01 00:00:31          596         3156      57.16   \n",
       "1               1  2018-04-01 00:02:10         4961         3412      81.51   \n",
       "2               2  2018-04-01 00:07:56            2         1365     146.00   \n",
       "3               3  2018-04-01 00:09:29         4128         8737      64.49   \n",
       "4               4  2018-04-01 00:10:34          927         9906      50.99   \n",
       "5               5  2018-04-01 00:10:45          568         8803      44.71   \n",
       "6               6  2018-04-01 00:11:30         2803         5490      96.03   \n",
       "7               7  2018-04-01 00:11:44         4684         2486      24.36   \n",
       "8               8  2018-04-01 00:11:53         4128         8354      26.34   \n",
       "9               9  2018-04-01 00:13:44          541         6212      59.07   \n",
       "\n",
       "   TX_TIME_SECONDS  TX_TIME_DAYS  TX_FRAUD  TX_FRAUD_SCENARIO  \n",
       "0               31             0         0                  0  \n",
       "1              130             0         0                  0  \n",
       "2              476             0         0                  0  \n",
       "3              569             0         0                  0  \n",
       "4              634             0         0                  0  \n",
       "5              645             0         0                  0  \n",
       "6              690             0         0                  0  \n",
       "7              704             0         0                  0  \n",
       "8              713             0         0                  0  \n",
       "9              824             0         0                  0  "
      ]
     },
     "execution_count": 17,
     "metadata": {},
     "output_type": "execute_result"
    }
   ],
   "source": [
    "df.head(10)"
   ]
  },
  {
   "cell_type": "code",
   "execution_count": 6,
   "id": "2d5d4b4c",
   "metadata": {},
   "outputs": [
    {
     "name": "stdout",
     "output_type": "stream",
     "text": [
      "<class 'pandas.core.frame.DataFrame'>\n",
      "RangeIndex: 1754155 entries, 0 to 1754154\n",
      "Data columns (total 9 columns):\n",
      " #   Column             Dtype  \n",
      "---  ------             -----  \n",
      " 0   TRANSACTION_ID     int64  \n",
      " 1   TX_DATETIME        object \n",
      " 2   CUSTOMER_ID        int64  \n",
      " 3   TERMINAL_ID        int64  \n",
      " 4   TX_AMOUNT          float64\n",
      " 5   TX_TIME_SECONDS    int64  \n",
      " 6   TX_TIME_DAYS       int64  \n",
      " 7   TX_FRAUD           int64  \n",
      " 8   TX_FRAUD_SCENARIO  int64  \n",
      "dtypes: float64(1), int64(7), object(1)\n",
      "memory usage: 120.4+ MB\n"
     ]
    }
   ],
   "source": [
    "df.info()"
   ]
  },
  {
   "cell_type": "code",
   "execution_count": 8,
   "id": "3822bf3c",
   "metadata": {},
   "outputs": [
    {
     "data": {
      "text/plain": [
       "Index(['TRANSACTION_ID', 'TX_DATETIME', 'CUSTOMER_ID', 'TERMINAL_ID',\n",
       "       'TX_AMOUNT', 'TX_TIME_SECONDS', 'TX_TIME_DAYS', 'TX_FRAUD',\n",
       "       'TX_FRAUD_SCENARIO'],\n",
       "      dtype='object')"
      ]
     },
     "execution_count": 8,
     "metadata": {},
     "output_type": "execute_result"
    }
   ],
   "source": [
    "df.columns"
   ]
  },
  {
   "cell_type": "code",
   "execution_count": 9,
   "id": "c3fea9f7",
   "metadata": {},
   "outputs": [
    {
     "data": {
      "text/plain": [
       "TX_FRAUD\n",
       "0    1739474\n",
       "1      14681\n",
       "Name: count, dtype: int64"
      ]
     },
     "execution_count": 9,
     "metadata": {},
     "output_type": "execute_result"
    }
   ],
   "source": [
    "df[\"TX_FRAUD\"].value_counts()"
   ]
  },
  {
   "cell_type": "code",
   "execution_count": 10,
   "id": "fe3259a3",
   "metadata": {},
   "outputs": [
    {
     "data": {
      "text/plain": [
       "TX_FRAUD_SCENARIO\n",
       "0    1739474\n",
       "2       9077\n",
       "3       4631\n",
       "1        973\n",
       "Name: count, dtype: int64"
      ]
     },
     "execution_count": 10,
     "metadata": {},
     "output_type": "execute_result"
    }
   ],
   "source": [
    "df[\"TX_FRAUD_SCENARIO\"].value_counts()"
   ]
  },
  {
   "cell_type": "code",
   "execution_count": 11,
   "id": "315d1e74",
   "metadata": {},
   "outputs": [
    {
     "data": {
      "text/plain": [
       "array([0, 1, 3, 2])"
      ]
     },
     "execution_count": 11,
     "metadata": {},
     "output_type": "execute_result"
    }
   ],
   "source": [
    "df[\"TX_FRAUD_SCENARIO\"].unique()"
   ]
  },
  {
   "cell_type": "code",
   "execution_count": 12,
   "id": "d4f94d1e",
   "metadata": {},
   "outputs": [
    {
     "name": "stdout",
     "output_type": "stream",
     "text": [
      "TX_FRAUD_SCENARIO\n",
      "0    1739474\n",
      "1        973\n",
      "Name: count, dtype: int64\n"
     ]
    }
   ],
   "source": [
    "df = df[df[\"TX_FRAUD_SCENARIO\"].isin([0,1])]\n",
    "print(df[\"TX_FRAUD_SCENARIO\"].value_counts())"
   ]
  },
  {
   "cell_type": "code",
   "execution_count": 13,
   "id": "36074fdd",
   "metadata": {},
   "outputs": [
    {
     "data": {
      "text/plain": [
       "np.int64(0)"
      ]
     },
     "execution_count": 13,
     "metadata": {},
     "output_type": "execute_result"
    }
   ],
   "source": [
    "df.isnull().sum().sum()"
   ]
  },
  {
   "cell_type": "code",
   "execution_count": 15,
   "id": "898c1974",
   "metadata": {},
   "outputs": [
    {
     "data": {
      "text/plain": [
       "(1740447, 9)"
      ]
     },
     "execution_count": 15,
     "metadata": {},
     "output_type": "execute_result"
    }
   ],
   "source": [
    "df.shape"
   ]
  },
  {
   "cell_type": "code",
   "execution_count": null,
   "id": "1437512e",
   "metadata": {},
   "outputs": [
    {
     "data": {
      "image/png": "[encoded data removed]",
      "text/plain": [
       "<Figure size 640x480 with 1 Axes>"
      ]
     },
     "metadata": {},
     "output_type": "display_data"
    }
   ],
   "source": [
    "#CLASS DISTRIBUTION\n",
    "df[\"TX_FRAUD\"].value_counts().plot(kind=\"bar\",title=\"Transaction by Amount\",color=\"skyblue\")\n",
    "plt.xlabel(\"Transaction Amount\")\n",
    "plt.ylabel(\"Count\")\n",
    "plt.show()"
   ]
  },
  {
   "cell_type": "code",
   "execution_count": 19,
   "id": "9e053001",
   "metadata": {},
   "outputs": [
    {
     "data": {
      "text/plain": [
       "count    1740447\n",
       "mean          53\n",
       "std           39\n",
       "min            0\n",
       "25%           20\n",
       "50%           44\n",
       "75%           76\n",
       "max          310\n",
       "Name: TX_AMOUNT, dtype: int64"
      ]
     },
     "execution_count": 19,
     "metadata": {},
     "output_type": "execute_result"
    }
   ],
   "source": [
    "df[\"TX_AMOUNT\"].describe().astype(int)"
   ]
  },
  {
   "cell_type": "code",
   "execution_count": 25,
   "id": "cd9dd95f",
   "metadata": {},
   "outputs": [
    {
     "data": {
      "text/plain": [
       "<function matplotlib.pyplot.show(close=None, block=None)>"
      ]
     },
     "execution_count": 25,
     "metadata": {},
     "output_type": "execute_result"
    },
    {
     "data": {
      "image/png": "[encoded data removed]",
      "text/plain": [
       "<Figure size 640x480 with 1 Axes>"
      ]
     },
     "metadata": {},
     "output_type": "display_data"
    }
   ],
   "source": [
    "sns.boxplot(data=df[df[\"TX_AMOUNT\"]>220], x = \"TX_FRAUD\", y = \"TX_AMOUNT\")\n",
    "plt.title(\"Amount vs TX_Fraud (Filtered under 220k)\")\n",
    "plt.show"
   ]
  },
  {
   "cell_type": "code",
   "execution_count": 26,
   "id": "99a2aaa3",
   "metadata": {},
   "outputs": [
    {
     "name": "stdout",
     "output_type": "stream",
     "text": [
      "TX_FRAUD\n",
      "1    973\n",
      "Name: count, dtype: int64\n"
     ]
    }
   ],
   "source": [
    "print(df[df[\"TX_AMOUNT\"] > 220][\"TX_FRAUD\"].value_counts())"
   ]
  },
  {
   "cell_type": "code",
   "execution_count": 27,
   "id": "0a5691e4",
   "metadata": {},
   "outputs": [],
   "source": [
    "X = df.drop(columns=['TX_FRAUD','TRANSACTION_ID','CUSTOMER_ID','TERMINAL_ID'])\n"
   ]
  },
  {
   "cell_type": "code",
   "execution_count": 28,
   "id": "8c23edb0",
   "metadata": {},
   "outputs": [],
   "source": [
    "X['TX_DATETIME']= pd.to_datetime(X['TX_DATETIME']).astype(int)/10**9"
   ]
  },
  {
   "cell_type": "code",
   "execution_count": 29,
   "id": "a7c795d4",
   "metadata": {},
   "outputs": [],
   "source": [
    "y= df[\"TX_FRAUD\"]"
   ]
  },
  {
   "cell_type": "code",
   "execution_count": 30,
   "id": "1b78c558",
   "metadata": {},
   "outputs": [],
   "source": [
    "# TRAIN TEST SPLIT\n",
    "from sklearn.model_selection import train_test_split\n",
    "X_train , X_test , y_train, y_test = train_test_split(X,y,test_size=0.3,random_state=42,stratify=y)"
   ]
  },
  {
   "cell_type": "code",
   "execution_count": 31,
   "id": "09d932e7",
   "metadata": {},
   "outputs": [],
   "source": [
    "from imblearn.over_sampling import SMOTE\n",
    "smote = SMOTE(random_state=42)\n",
    "X_train_res, y_train_res = smote.fit_resample(X_train , y_train)"
   ]
  },
  {
   "cell_type": "code",
   "execution_count": 32,
   "id": "d527ee1c",
   "metadata": {},
   "outputs": [
    {
     "data": {
      "text/html": [
       "<div>\n",
       "<style scoped>\n",
       "    .dataframe tbody tr th:only-of-type {\n",
       "        vertical-align: middle;\n",
       "    }\n",
       "\n",
       "    .dataframe tbody tr th {\n",
       "        vertical-align: top;\n",
       "    }\n",
       "\n",
       "    .dataframe thead th {\n",
       "        text-align: right;\n",
       "    }\n",
       "</style>\n",
       "<table border=\"1\" class=\"dataframe\">\n",
       "  <thead>\n",
       "    <tr style=\"text-align: right;\">\n",
       "      <th></th>\n",
       "      <th>TX_DATETIME</th>\n",
       "      <th>TX_AMOUNT</th>\n",
       "      <th>TX_TIME_SECONDS</th>\n",
       "      <th>TX_TIME_DAYS</th>\n",
       "      <th>TX_FRAUD_SCENARIO</th>\n",
       "    </tr>\n",
       "  </thead>\n",
       "  <tbody>\n",
       "    <tr>\n",
       "      <th>1006768</th>\n",
       "      <td>1.531605e+09</td>\n",
       "      <td>2.78</td>\n",
       "      <td>9063703</td>\n",
       "      <td>104</td>\n",
       "      <td>0</td>\n",
       "    </tr>\n",
       "    <tr>\n",
       "      <th>1525204</th>\n",
       "      <td>1.536302e+09</td>\n",
       "      <td>86.66</td>\n",
       "      <td>13761194</td>\n",
       "      <td>159</td>\n",
       "      <td>0</td>\n",
       "    </tr>\n",
       "    <tr>\n",
       "      <th>1102315</th>\n",
       "      <td>1.532471e+09</td>\n",
       "      <td>54.84</td>\n",
       "      <td>9930293</td>\n",
       "      <td>114</td>\n",
       "      <td>0</td>\n",
       "    </tr>\n",
       "    <tr>\n",
       "      <th>1062005</th>\n",
       "      <td>1.532101e+09</td>\n",
       "      <td>3.08</td>\n",
       "      <td>9560257</td>\n",
       "      <td>110</td>\n",
       "      <td>0</td>\n",
       "    </tr>\n",
       "    <tr>\n",
       "      <th>981250</th>\n",
       "      <td>1.531387e+09</td>\n",
       "      <td>65.81</td>\n",
       "      <td>8846653</td>\n",
       "      <td>102</td>\n",
       "      <td>0</td>\n",
       "    </tr>\n",
       "    <tr>\n",
       "      <th>...</th>\n",
       "      <td>...</td>\n",
       "      <td>...</td>\n",
       "      <td>...</td>\n",
       "      <td>...</td>\n",
       "      <td>...</td>\n",
       "    </tr>\n",
       "    <tr>\n",
       "      <th>866220</th>\n",
       "      <td>1.530351e+09</td>\n",
       "      <td>98.17</td>\n",
       "      <td>7810092</td>\n",
       "      <td>90</td>\n",
       "      <td>0</td>\n",
       "    </tr>\n",
       "    <tr>\n",
       "      <th>707036</th>\n",
       "      <td>1.528902e+09</td>\n",
       "      <td>34.23</td>\n",
       "      <td>6361634</td>\n",
       "      <td>73</td>\n",
       "      <td>0</td>\n",
       "    </tr>\n",
       "    <tr>\n",
       "      <th>416660</th>\n",
       "      <td>1.526295e+09</td>\n",
       "      <td>116.15</td>\n",
       "      <td>3753942</td>\n",
       "      <td>43</td>\n",
       "      <td>0</td>\n",
       "    </tr>\n",
       "    <tr>\n",
       "      <th>1253416</th>\n",
       "      <td>1.533827e+09</td>\n",
       "      <td>27.09</td>\n",
       "      <td>11286261</td>\n",
       "      <td>130</td>\n",
       "      <td>0</td>\n",
       "    </tr>\n",
       "    <tr>\n",
       "      <th>1593958</th>\n",
       "      <td>1.536916e+09</td>\n",
       "      <td>38.49</td>\n",
       "      <td>14375216</td>\n",
       "      <td>166</td>\n",
       "      <td>0</td>\n",
       "    </tr>\n",
       "  </tbody>\n",
       "</table>\n",
       "<p>1218312 rows × 5 columns</p>\n",
       "</div>"
      ],
      "text/plain": [
       "          TX_DATETIME  TX_AMOUNT  TX_TIME_SECONDS  TX_TIME_DAYS  \\\n",
       "1006768  1.531605e+09       2.78          9063703           104   \n",
       "1525204  1.536302e+09      86.66         13761194           159   \n",
       "1102315  1.532471e+09      54.84          9930293           114   \n",
       "1062005  1.532101e+09       3.08          9560257           110   \n",
       "981250   1.531387e+09      65.81          8846653           102   \n",
       "...               ...        ...              ...           ...   \n",
       "866220   1.530351e+09      98.17          7810092            90   \n",
       "707036   1.528902e+09      34.23          6361634            73   \n",
       "416660   1.526295e+09     116.15          3753942            43   \n",
       "1253416  1.533827e+09      27.09         11286261           130   \n",
       "1593958  1.536916e+09      38.49         14375216           166   \n",
       "\n",
       "         TX_FRAUD_SCENARIO  \n",
       "1006768                  0  \n",
       "1525204                  0  \n",
       "1102315                  0  \n",
       "1062005                  0  \n",
       "981250                   0  \n",
       "...                    ...  \n",
       "866220                   0  \n",
       "707036                   0  \n",
       "416660                   0  \n",
       "1253416                  0  \n",
       "1593958                  0  \n",
       "\n",
       "[1218312 rows x 5 columns]"
      ]
     },
     "execution_count": 32,
     "metadata": {},
     "output_type": "execute_result"
    }
   ],
   "source": [
    "X_train"
   ]
  },
  {
   "cell_type": "code",
   "execution_count": 34,
   "id": "819008fa",
   "metadata": {},
   "outputs": [
    {
     "data": {
      "text/plain": [
       "1006768    0\n",
       "1525204    0\n",
       "1102315    0\n",
       "1062005    0\n",
       "981250     0\n",
       "          ..\n",
       "866220     0\n",
       "707036     0\n",
       "416660     0\n",
       "1253416    0\n",
       "1593958    0\n",
       "Name: TX_FRAUD, Length: 1218312, dtype: int64"
      ]
     },
     "execution_count": 34,
     "metadata": {},
     "output_type": "execute_result"
    }
   ],
   "source": [
    "y_train"
   ]
  },
  {
   "cell_type": "code",
   "execution_count": 35,
   "id": "9bf88f19",
   "metadata": {},
   "outputs": [
    {
     "data": {
      "text/plain": [
       "TX_FRAUD_SCENARIO\n",
       "0    1739474\n",
       "1        973\n",
       "Name: count, dtype: int64"
      ]
     },
     "execution_count": 35,
     "metadata": {},
     "output_type": "execute_result"
    }
   ],
   "source": [
    "df[\"TX_FRAUD_SCENARIO\"].value_counts()"
   ]
  },
  {
   "cell_type": "code",
   "execution_count": 36,
   "id": "862b0a2a",
   "metadata": {},
   "outputs": [
    {
     "data": {
      "text/plain": [
       "TX_FRAUD\n",
       "0    1739474\n",
       "1        973\n",
       "Name: count, dtype: int64"
      ]
     },
     "execution_count": 36,
     "metadata": {},
     "output_type": "execute_result"
    }
   ],
   "source": [
    "df[\"TX_FRAUD\"].value_counts()"
   ]
  },
  {
   "cell_type": "code",
   "execution_count": null,
   "id": "efdcecfb",
   "metadata": {},
   "outputs": [],
   "source": []
  }
 ],
 "metadata": {
  "kernelspec": {
   "display_name": "Python 3",
   "language": "python",
   "name": "python3"
  },
  "language_info": {
   "codemirror_mode": {
    "name": "ipython",
    "version": 3
   },
   "file_extension": ".py",
   "mimetype": "text/x-python",
   "name": "python",
   "nbconvert_exporter": "python",
   "pygments_lexer": "ipython3",
   "version": "3.11.3"
  }
 },
 "nbformat": 4,
 "nbformat_minor": 5
}
