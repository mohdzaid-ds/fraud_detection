{
 "cells": [
  {
   "cell_type": "code",
   "execution_count": 2,
   "id": "648ca113",
   "metadata": {},
   "outputs": [
    {
     "name": "stdout",
     "output_type": "stream",
     "text": [
      "✅ fraud_rules.pkl created successfully!\n"
     ]
    }
   ],
   "source": [
    "import pandas as pd\n",
    "import joblib\n",
    "\n",
    "# Load dataset\n",
    "df = pd.read_csv(\"final_dataset.csv\")   # <-- change to your dataset path\n",
    "\n",
    "# Ensure datetime format\n",
    "df[\"TX_DATETIME\"] = pd.to_datetime(df[\"TX_DATETIME\"])\n",
    "unique_days = df[\"TX_DATETIME\"].dt.floor(\"D\").unique()\n",
    "\n",
    "# -------------------------------\n",
    "# RULE 2: Terminal Fraud (28 days)\n",
    "# -------------------------------\n",
    "import random\n",
    "terminal_fraud_days = {}\n",
    "\n",
    "for day in unique_days:\n",
    "    fraud_terminals = df[\"TERMINAL_ID\"].sample(2, replace=False).unique()\n",
    "    for terminal in fraud_terminals:\n",
    "        terminal_fraud_days.setdefault(terminal, []).append(day)\n",
    "\n",
    "# -------------------------------\n",
    "# RULE 3: Customer Fraud (14 days, ×5)\n",
    "# -------------------------------\n",
    "customer_fraud_days = {}\n",
    "\n",
    "for day in unique_days:\n",
    "    fraud_customers = df[\"CUSTOMER_ID\"].sample(3, replace=False).unique()\n",
    "    for customer in fraud_customers:\n",
    "        customer_fraud_days.setdefault(customer, []).append(day)\n",
    "\n",
    "# -------------------------------\n",
    "# Combine both into one file\n",
    "# -------------------------------\n",
    "fraud_rules = {\n",
    "    \"terminal_fraud_days\": terminal_fraud_days,\n",
    "    \"customer_fraud_days\": customer_fraud_days\n",
    "}\n",
    "\n",
    "joblib.dump(fraud_rules, \"fraud_rules.pkl\")\n",
    "\n",
    "print(\"✅ fraud_rules.pkl created successfully!\")"
   ]
  }
 ],
 "metadata": {
  "kernelspec": {
   "display_name": "Python 3",
   "language": "python",
   "name": "python3"
  },
  "language_info": {
   "codemirror_mode": {
    "name": "ipython",
    "version": 3
   },
   "file_extension": ".py",
   "mimetype": "text/x-python",
   "name": "python",
   "nbconvert_exporter": "python",
   "pygments_lexer": "ipython3",
   "version": "3.11.3"
  }
 },
 "nbformat": 4,
 "nbformat_minor": 5
}
