{
 "cells": [
  {
   "cell_type": "code",
   "execution_count": 1,
   "id": "ed6bf756",
   "metadata": {},
   "outputs": [
    {
     "name": "stdout",
     "output_type": "stream",
     "text": [
      "Loading dataset...\n",
      "Dataset shape: (1754155, 9)\n"
     ]
    }
   ],
   "source": [
    "# IMPORT LIBARIES AND LOAD DATA\n",
    "import pandas as pd\n",
    "import numpy as np\n",
    "import matplotlib.pyplot as plt\n",
    "import seaborn as sns\n",
    "from sklearn.model_selection import train_test_split, TimeSeriesSplit, cross_val_score\n",
    "from sklearn.ensemble import RandomForestClassifier\n",
    "from sklearn.metrics import classification_report, confusion_matrix, roc_auc_score, precision_recall_curve\n",
    "from xgboost import XGBClassifier\n",
    "from sklearn.utils.class_weight import compute_class_weight\n",
    "import warnings\n",
    "warnings.filterwarnings('ignore')\n",
    "\n",
    "# Load dataset\n",
    "print(\"Loading dataset...\")\n",
    "dataset = pd.read_csv('final_dataset.csv')\n",
    "print(f\"Dataset shape: {dataset.shape}\")"
   ]
  },
  {
   "cell_type": "code",
   "execution_count": 2,
   "id": "a624ea9d",
   "metadata": {},
   "outputs": [
    {
     "name": "stdout",
     "output_type": "stream",
     "text": [
      "\n",
      "=== DATA EXPLORATION ===\n",
      "First few rows:\n",
      "   TRANSACTION_ID          TX_DATETIME  CUSTOMER_ID  TERMINAL_ID  TX_AMOUNT  \\\n",
      "0               0  2018-04-01 00:00:31          596         3156      57.16   \n",
      "1               1  2018-04-01 00:02:10         4961         3412      81.51   \n",
      "2               2  2018-04-01 00:07:56            2         1365     146.00   \n",
      "3               3  2018-04-01 00:09:29         4128         8737      64.49   \n",
      "4               4  2018-04-01 00:10:34          927         9906      50.99   \n",
      "\n",
      "   TX_TIME_SECONDS  TX_TIME_DAYS  TX_FRAUD  TX_FRAUD_SCENARIO  \n",
      "0               31             0         0                  0  \n",
      "1              130             0         0                  0  \n",
      "2              476             0         0                  0  \n",
      "3              569             0         0                  0  \n",
      "4              634             0         0                  0  \n",
      "\n",
      "Fraud distribution:\n",
      "TX_FRAUD\n",
      "0    1739474\n",
      "1      14681\n",
      "Name: count, dtype: int64\n",
      "Fraud rate: 0.8369%\n",
      "\n",
      "Basic statistics for fraud transactions:\n",
      "count    14681.000000\n",
      "mean       131.168024\n",
      "std        154.485795\n",
      "min          0.020000\n",
      "25%         32.980000\n",
      "50%         72.220000\n",
      "75%        177.300000\n",
      "max       2628.000000\n",
      "Name: TX_AMOUNT, dtype: float64\n"
     ]
    }
   ],
   "source": [
    "# DATA EXPLORATION\n",
    "# Basic exploration\n",
    "print(\"\\n=== DATA EXPLORATION ===\")\n",
    "print(\"First few rows:\")\n",
    "print(dataset.head())\n",
    "\n",
    "print(\"\\nFraud distribution:\")\n",
    "fraud_counts = dataset['TX_FRAUD'].value_counts()\n",
    "print(fraud_counts)\n",
    "print(f\"Fraud rate: {dataset['TX_FRAUD'].mean()*100:.4f}%\")\n",
    "\n",
    "print(\"\\nBasic statistics for fraud transactions:\")\n",
    "print(dataset[dataset['TX_FRAUD'] == 1]['TX_AMOUNT'].describe())"
   ]
  },
  {
   "cell_type": "code",
   "execution_count": 3,
   "id": "c28b99ad",
   "metadata": {},
   "outputs": [
    {
     "name": "stdout",
     "output_type": "stream",
     "text": [
      "\n",
      "=== FEATURE ENGINEERING ===\n",
      "Feature engineering completed!\n",
      "New shape: (1754155, 17)\n"
     ]
    }
   ],
   "source": [
    "# FEATURE ENGINEERING\n",
    "def create_fraud_features(df):\n",
    "    \"\"\"Create features for fraud detection\"\"\"\n",
    "    df = df.copy()\n",
    "    \n",
    "    # Convert to datetime\n",
    "    df['TX_DATETIME'] = pd.to_datetime(df['TX_DATETIME'])\n",
    "    \n",
    "    # Basic time features\n",
    "    df['HOUR'] = df['TX_DATETIME'].dt.hour\n",
    "    df['DAY_OF_WEEK'] = df['TX_DATETIME'].dt.dayofweek\n",
    "    df['IS_WEEKEND'] = df['DAY_OF_WEEK'].isin([5, 6]).astype(int)\n",
    "    df['AMOUNT_OVER_220'] = (df['TX_AMOUNT'] > 220).astype(int)\n",
    "    \n",
    "    # Customer statistics\n",
    "    customer_stats = df.groupby('CUSTOMER_ID').agg({\n",
    "        'TX_AMOUNT': ['mean', 'std', 'count']\n",
    "    }).reset_index()\n",
    "    customer_stats.columns = ['CUSTOMER_ID', 'CUST_AVG_AMOUNT', 'CUST_STD_AMOUNT', 'CUST_TX_COUNT']\n",
    "    df = df.merge(customer_stats, on='CUSTOMER_ID', how='left')\n",
    "    \n",
    "    # Amount deviation\n",
    "    df['AMOUNT_DEVIATION'] = (df['TX_AMOUNT'] - df['CUST_AVG_AMOUNT']) / df['CUST_STD_AMOUNT'].replace(0, 1)\n",
    "    df['AMOUNT_DEVIATION'] = df['AMOUNT_DEVIATION'].fillna(0)\n",
    "    \n",
    "    # Fill missing values\n",
    "    df = df.fillna(0)\n",
    "    \n",
    "    return df\n",
    "\n",
    "print(\"\\n=== FEATURE ENGINEERING ===\")\n",
    "dataset = create_fraud_features(dataset)\n",
    "print(\"Feature engineering completed!\")\n",
    "print(f\"New shape: {dataset.shape}\")"
   ]
  },
  {
   "cell_type": "code",
   "execution_count": 4,
   "id": "28e27565",
   "metadata": {},
   "outputs": [
    {
     "name": "stdout",
     "output_type": "stream",
     "text": [
      "Using 9 features: ['TX_AMOUNT', 'AMOUNT_OVER_220', 'HOUR', 'DAY_OF_WEEK', 'IS_WEEKEND', 'CUST_AVG_AMOUNT', 'CUST_STD_AMOUNT', 'AMOUNT_DEVIATION', 'CUST_TX_COUNT']\n",
      "X shape: (1754155, 9), y shape: (1754155,)\n"
     ]
    }
   ],
   "source": [
    "# PREPARE FEATURES AND TARGET\n",
    "def prepare_features(df):\n",
    "    \"\"\"Select and prepare features for modeling\"\"\"\n",
    "    features = [\n",
    "        'TX_AMOUNT', 'AMOUNT_OVER_220', 'HOUR', 'DAY_OF_WEEK', 'IS_WEEKEND',\n",
    "        'CUST_AVG_AMOUNT', 'CUST_STD_AMOUNT', 'AMOUNT_DEVIATION', 'CUST_TX_COUNT'\n",
    "    ]\n",
    "    \n",
    "    # Only use features that exist in dataframe\n",
    "    available_features = [f for f in features if f in df.columns]\n",
    "    print(f\"Using {len(available_features)} features: {available_features}\")\n",
    "    \n",
    "    X = df[available_features]\n",
    "    y = df['TX_FRAUD']\n",
    "    \n",
    "    return X, y, available_features\n",
    "\n",
    "X, y, feature_names = prepare_features(dataset)\n",
    "print(f\"X shape: {X.shape}, y shape: {y.shape}\")"
   ]
  },
  {
   "cell_type": "code",
   "execution_count": 5,
   "id": "3aa2e3d3",
   "metadata": {},
   "outputs": [
    {
     "name": "stdout",
     "output_type": "stream",
     "text": [
      "\n",
      "=== TRAIN-TEST SPLIT ===\n",
      "Train: (1403324, 9), Test: (350831, 9)\n",
      "Train fraud rate: 0.0082\n",
      "Test fraud rate: 0.0090\n"
     ]
    }
   ],
   "source": [
    "# TIME BASED TRAIN TEST SPLIT \n",
    "def time_based_split(X, y, test_size=0.2):\n",
    "    \"\"\"Split data based on time order\"\"\"\n",
    "    # Sort by datetime to maintain temporal order\n",
    "    sorted_indices = dataset.sort_values('TX_DATETIME').index\n",
    "    X_sorted = X.loc[sorted_indices]\n",
    "    y_sorted = y.loc[sorted_indices]\n",
    "    \n",
    "    # Split based on time\n",
    "    split_idx = int(len(X_sorted) * (1 - test_size))\n",
    "    \n",
    "    X_train = X_sorted.iloc[:split_idx]\n",
    "    X_test = X_sorted.iloc[split_idx:]\n",
    "    y_train = y_sorted.iloc[:split_idx]\n",
    "    y_test = y_sorted.iloc[split_idx:]\n",
    "    \n",
    "    return X_train, X_test, y_train, y_test\n",
    "\n",
    "print(\"\\n=== TRAIN-TEST SPLIT ===\")\n",
    "X_train, X_test, y_train, y_test = time_based_split(X, y, test_size=0.2)\n",
    "print(f\"Train: {X_train.shape}, Test: {X_test.shape}\")\n",
    "print(f\"Train fraud rate: {y_train.mean():.4f}\")\n",
    "print(f\"Test fraud rate: {y_test.mean():.4f}\")"
   ]
  },
  {
   "cell_type": "code",
   "execution_count": 6,
   "id": "cfc9cab6",
   "metadata": {},
   "outputs": [
    {
     "name": "stdout",
     "output_type": "stream",
     "text": [
      "\n",
      "=== TRAINING MODELS WITH INDIVIDUAL ACCURACY ===\n",
      "\n",
      "--- Training Random Forest ---\n",
      "✅ Random Forest Training Completed!\n",
      "   Train Accuracy: 0.9871\n",
      "   Test Accuracy:  0.9860\n",
      "   Train AUC:      0.8005\n",
      "   Test AUC:       0.6632\n",
      "   ✅ Good generalization (train-test diff: 0.001)\n",
      "\n",
      "--- Training XGBoost ---\n",
      "✅ XGBoost Training Completed!\n",
      "   Train Accuracy: 0.9523\n",
      "   Test Accuracy:  0.9510\n",
      "   Train AUC:      0.8504\n",
      "   Test AUC:       0.6692\n",
      "   ✅ Good generalization (train-test diff: 0.001)\n"
     ]
    }
   ],
   "source": [
    "def train_and_evaluate_models(X_train, y_train, X_test, y_test):\n",
    "    \"\"\"Train multiple models and show individual train/test accuracy\"\"\"\n",
    "    print(\"\\n=== TRAINING MODELS WITH INDIVIDUAL ACCURACY ===\")\n",
    "    \n",
    "    # Calculate class weights\n",
    "    class_weights = compute_class_weight(\n",
    "        'balanced',\n",
    "        classes=np.unique(y_train),\n",
    "        y=y_train\n",
    "    )\n",
    "    class_weight_dict = dict(zip(np.unique(y_train), class_weights))\n",
    "    \n",
    "    # Calculate scale ratio for XGBoost\n",
    "    fraud_ratio = len(y_train[y_train==0]) / len(y_train[y_train==1])\n",
    "    \n",
    "    # Define models\n",
    "    models = {\n",
    "        'Random Forest': RandomForestClassifier(\n",
    "            n_estimators=100,\n",
    "            class_weight=class_weight_dict,\n",
    "            random_state=42,\n",
    "            max_depth=10,\n",
    "            n_jobs=-1\n",
    "        ),\n",
    "        'XGBoost': XGBClassifier(\n",
    "            n_estimators=150,\n",
    "            scale_pos_weight=fraud_ratio,\n",
    "            random_state=42,\n",
    "            max_depth=6,\n",
    "            learning_rate=0.1,\n",
    "            eval_metric='auc',\n",
    "            subsample=0.8,\n",
    "            colsample_bytree=0.8\n",
    "        )\n",
    "    }\n",
    "    \n",
    "    results = {}\n",
    "    \n",
    "    for name, model in models.items():\n",
    "        print(f\"\\n--- Training {name} ---\")\n",
    "        \n",
    "        # Train model\n",
    "        model.fit(X_train, y_train)\n",
    "        \n",
    "        # Train predictions\n",
    "        y_train_pred = model.predict(X_train)\n",
    "        y_train_pred_proba = model.predict_proba(X_train)[:, 1]\n",
    "        \n",
    "        # Test predictions\n",
    "        y_test_pred = model.predict(X_test)\n",
    "        y_test_pred_proba = model.predict_proba(X_test)[:, 1]\n",
    "        \n",
    "        # Calculate metrics\n",
    "        train_accuracy = (y_train_pred == y_train).mean()\n",
    "        test_accuracy = (y_test_pred == y_test).mean()\n",
    "        train_auc = roc_auc_score(y_train, y_train_pred_proba)\n",
    "        test_auc = roc_auc_score(y_test, y_test_pred_proba)\n",
    "        \n",
    "        # Store results\n",
    "        results[name] = {\n",
    "            'model': model,\n",
    "            'train_accuracy': train_accuracy,\n",
    "            'test_accuracy': test_accuracy,\n",
    "            'train_auc': train_auc,\n",
    "            'test_auc': test_auc,\n",
    "            'train_classification_report': classification_report(y_train, y_train_pred),\n",
    "            'test_classification_report': classification_report(y_test, y_test_pred),\n",
    "            'train_confusion_matrix': confusion_matrix(y_train, y_train_pred),\n",
    "            'test_confusion_matrix': confusion_matrix(y_test, y_test_pred)\n",
    "        }\n",
    "        \n",
    "        # Print individual results\n",
    "        print(f\"✅ {name} Training Completed!\")\n",
    "        print(f\"   Train Accuracy: {train_accuracy:.4f}\")\n",
    "        print(f\"   Test Accuracy:  {test_accuracy:.4f}\")\n",
    "        print(f\"   Train AUC:      {train_auc:.4f}\")\n",
    "        print(f\"   Test AUC:       {test_auc:.4f}\")\n",
    "        \n",
    "        # Check for overfitting\n",
    "        accuracy_diff = train_accuracy - test_accuracy\n",
    "        if accuracy_diff > 0.1:\n",
    "            print(f\"   ⚠  Warning: Possible overfitting (train-test diff: {accuracy_diff:.3f})\")\n",
    "        else:\n",
    "            print(f\"   ✅ Good generalization (train-test diff: {accuracy_diff:.3f})\")\n",
    "    \n",
    "    return results\n",
    "\n",
    "# Train and evaluate models with individual accuracy\n",
    "results = train_and_evaluate_models(X_train, y_train, X_test, y_test)"
   ]
  },
  {
   "cell_type": "code",
   "execution_count": 7,
   "id": "3dd7c570",
   "metadata": {},
   "outputs": [
    {
     "name": "stdout",
     "output_type": "stream",
     "text": [
      "\n",
      "=== FEATURE IMPORTANCE ===\n"
     ]
    },
    {
     "data": {
      "image/png": "[encoded data removed]",
      "text/plain": [
       "<Figure size 1200x600 with 2 Axes>"
      ]
     },
     "metadata": {},
     "output_type": "display_data"
    }
   ],
   "source": [
    "# FEATURE IMPORTANCE\n",
    "def plot_feature_importance(results, feature_names):\n",
    "    \"\"\"Plot feature importance for all tree-based models using results dict from train_and_evaluate_models\"\"\"\n",
    "    print(\"\\n=== FEATURE IMPORTANCE ===\")\n",
    "    \n",
    "    # Extract models from results dictionary\n",
    "    models = {name: info['model'] for name, info in results.items()}\n",
    "    \n",
    "    plt.figure(figsize=(12, 6))\n",
    "    \n",
    "    for i, (name, model) in enumerate(models.items(), start=1):\n",
    "        if hasattr(model, 'feature_importances_'):\n",
    "            plt.subplot(1, len(models), i)\n",
    "            \n",
    "            # Get feature importance\n",
    "            importance = model.feature_importances_\n",
    "            feature_imp = pd.DataFrame({\n",
    "                'feature': feature_names,\n",
    "                'importance': importance\n",
    "            }).sort_values('importance', ascending=True)\n",
    "            \n",
    "            # Plot\n",
    "            plt.barh(feature_imp['feature'], feature_imp['importance'])\n",
    "            plt.title(f'{name} - Feature Importance')\n",
    "            plt.xlabel('Importance')\n",
    "    \n",
    "    plt.tight_layout()\n",
    "    plt.show()\n",
    "\n",
    "# ✅ Correct usage\n",
    "# results = train_and_evaluate_models(X_train, y_train, X_test, y_test)\n",
    "plot_feature_importance(results, feature_names=X_train.columns)\n"
   ]
  },
  {
   "cell_type": "code",
   "execution_count": 9,
   "id": "1c6ca93c",
   "metadata": {},
   "outputs": [
    {
     "name": "stdout",
     "output_type": "stream",
     "text": [
      "\n",
      "🎯 BEST MODEL: XGBoost (AUC: 0.6692)\n",
      "Model saved as 'best_fraud_model.pkl'\n"
     ]
    }
   ],
   "source": [
    "# SAVE  BEST MODEL\n",
    "def save_best_model(results):\n",
    "    \"\"\"Save the best performing model\"\"\"\n",
    "    # Find best model by AUC\n",
    "    best_model_name = max(results.items(), key=lambda x: x[1]['auc'])[0]\n",
    "    best_model = results[best_model_name]['model']\n",
    "    best_auc = results[best_model_name]['auc']\n",
    "    \n",
    "    print(f\"\\n🎯 BEST MODEL: {best_model_name} (AUC: {best_auc:.4f})\")\n",
    "    \n",
    "    # Save model\n",
    "    import joblib\n",
    "    joblib.dump(best_model, 'best_fraud_model.pkl')\n",
    "    print(\"Model saved as 'best_fraud_model.pkl'\")\n",
    "    \n",
    "    return best_model\n",
    "\n",
    "best_model = save_best_model(results)"
   ]
  },
  {
   "cell_type": "code",
   "execution_count": null,
   "id": "14d4755e",
   "metadata": {},
   "outputs": [
    {
     "name": "stdout",
     "output_type": "stream",
     "text": [
      "\n",
      "=== EXAMPLE PREDICTION ===\n",
      "Prediction: FRAUD\n",
      "Fraud probability: 0.9995\n"
     ]
    }
   ],
   "source": [
    "# PREDICTIION FUNCTION\n",
    "def predict_fraud(model, transaction_data, feature_names):\n",
    "    \"\"\"Predict if a transaction is fraudulent\"\"\"\n",
    "    # Ensure input is DataFrame with correct columns\n",
    "    if isinstance(transaction_data, dict):\n",
    "        transaction_df = pd.DataFrame([transaction_data])\n",
    "    else:\n",
    "        transaction_df = transaction_data.copy()\n",
    "    \n",
    "    # Ensure all features are present\n",
    "    for feature in feature_names:\n",
    "        if feature not in transaction_df.columns:\n",
    "            if feature == 'AMOUNT_OVER_220':\n",
    "                transaction_df[feature] = (transaction_df.get('TX_AMOUNT', 0) > 220).astype(int)\n",
    "            else:\n",
    "                transaction_df[feature] = 0  # Default value\n",
    "    \n",
    "    # Reorder columns\n",
    "    transaction_df = transaction_df[feature_names]\n",
    "    \n",
    "    # Predict\n",
    "    prediction = model.predict(transaction_df)\n",
    "    probability = model.predict_proba(transaction_df)[:, 1]\n",
    "    \n",
    "    return prediction, probability\n",
    "\n",
    "# Example usage\n",
    "print(\"\\n=== EXAMPLE PREDICTION ===\")\n",
    "sample_transaction = {\n",
    "    'TX_AMOUNT': 300,\n",
    "    'HOUR': 14,\n",
    "    'DAY_OF_WEEK': 2,  \n",
    "    'IS_WEEKEND': 0,\n",
    "    'CUST_AVG_AMOUNT': 100,\n",
    "    'CUST_STD_AMOUNT': 50,\n",
    "    'AMOUNT_DEVIATION': 4.0,\n",
    "    'CUST_TX_COUNT': 25\n",
    "}\n",
    "\n",
    "prediction, probability = predict_fraud(best_model, sample_transaction, feature_names)\n",
    "print(f\"Prediction: {'FRAUD' if prediction[0] == 1 else 'LEGITIMATE'}\")\n",
    "print(f\"Fraud probability: {probability[0]:.4f}\")"
   ]
  }
 ],
 "metadata": {
  "kernelspec": {
   "display_name": "Python 3",
   "language": "python",
   "name": "python3"
  },
  "language_info": {
   "codemirror_mode": {
    "name": "ipython",
    "version": 3
   },
   "file_extension": ".py",
   "mimetype": "text/x-python",
   "name": "python",
   "nbconvert_exporter": "python",
   "pygments_lexer": "ipython3",
   "version": "3.11.3"
  }
 },
 "nbformat": 4,
 "nbformat_minor": 5
}
